{
 "cells": [
  {
   "cell_type": "markdown",
   "metadata": {},
   "source": [
    "---\n",
    "# Tasca 1: Jupyter Notebook i Markdown\n",
    "***\n",
    "---\n",
    "## Tareas:\n",
    "1. Instalar el programa **Anaconda** con **Python 3** y **Jupyter**.\n",
    "2. Utilizando **Jupyter Notebook**, ejecutar algunos cálculos sencillos a la vez que te familiarizas con el lenguaje **Markdown**. \n",
    "3. Prueba a crear **títulos**, **listas**, cambiar el **estilo** de la letra o añadir **imágenes** al Notebook.\n",
    "4. Exporta el Notebook como **pdf** y **html**."
   ]
  },
  {
   "cell_type": "markdown",
   "metadata": {},
   "source": [
    "### 1.Instalar el programa **Anaconda** con **Python 3** y **Jupyter**."
   ]
  },
  {
   "cell_type": "markdown",
   "metadata": {},
   "source": [
    "\n",
    "![logo](programas.png)\n",
    "\n"
   ]
  },
  {
   "cell_type": "markdown",
   "metadata": {},
   "source": [
    "### 2.Utilizando **Jupyter Notebook**, ejecutar algunos cálculos sencillos a la vez que te familiarizas con el lenguaje **Markdown** "
   ]
  },
  {
   "cell_type": "markdown",
   "metadata": {},
   "source": [
    "* **Operaciones básicas**"
   ]
  },
  {
   "cell_type": "code",
   "execution_count": 3,
   "metadata": {},
   "outputs": [
    {
     "name": "stdout",
     "output_type": "stream",
     "text": [
      "37\n"
     ]
    }
   ],
   "source": [
    "#Suma, resta, multiplicación\n",
    "a = 5\n",
    "b = 4\n",
    "c = 8\n",
    "\n",
    "print (a + b * 8)"
   ]
  },
  {
   "cell_type": "code",
   "execution_count": 10,
   "metadata": {},
   "outputs": [
    {
     "name": "stdout",
     "output_type": "stream",
     "text": [
      "2.0\n",
      "1024\n",
      "1\n"
     ]
    }
   ],
   "source": [
    "#Potencias y divisiones\n",
    "print (8/4)\n",
    "print (4**5)\n",
    "\n",
    "#Resto\n",
    "print (5%4)"
   ]
  },
  {
   "cell_type": "markdown",
   "metadata": {},
   "source": [
    "* **Operaciones con strings**"
   ]
  },
  {
   "cell_type": "code",
   "execution_count": 18,
   "metadata": {},
   "outputs": [
    {
     "name": "stdout",
     "output_type": "stream",
     "text": [
      "HolaCaracola\n",
      "Hola Caracola\n",
      "['Hola', 'Caracola']\n"
     ]
    }
   ],
   "source": [
    "x = \"Hola\"\n",
    "y = \"Caracola\"\n",
    "#Juntando las palabras\n",
    "print (x + y)\n",
    "\n",
    "#Mejor con un espacio\n",
    "z = x + \" \" + y\n",
    "print (z)\n",
    "\n",
    "#Volvamos a separarlas\n",
    "print (z.split(\" \"))"
   ]
  },
  {
   "cell_type": "markdown",
   "metadata": {},
   "source": [
    "#### Repte del curso del Cibernarium: \n",
    "Suposem que fem diverses compres a l’any, en total quatre, a una empresa proveïdora que ens ven els seus productes en dòlars. Els imports de les compres són: 356.75, 487.45, 295.83 i 532.00 dòlars. Assumim que el canvi de dòlars a euros és de 0,890.\n",
    "\n",
    "Calcula i imprimeix per pantalla les dades següents:\n",
    "\n",
    "* Suma total de les compres en euros\n",
    "* Mitjana de las quatre compres en euros\n"
   ]
  },
  {
   "cell_type": "code",
   "execution_count": 29,
   "metadata": {},
   "outputs": [
    {
     "name": "stdout",
     "output_type": "stream",
     "text": [
      "Introduce el cambio de dólares a euros\n"
     ]
    },
    {
     "name": "stdin",
     "output_type": "stream",
     "text": [
      " 0.890\n"
     ]
    },
    {
     "name": "stdout",
     "output_type": "stream",
     "text": [
      "Total en euros es:1488.1957\n",
      "La media:372.048925\n"
     ]
    }
   ],
   "source": [
    "a = 356.75\n",
    "b = 487.55 \n",
    "c = 295.83 \n",
    "d = 532.00\n",
    "total = a + b + c + d\n",
    "print (\"Introduce el cambio de dólares a euros\")\n",
    "cambio = input ()\n",
    "euros_total = total * float(cambio)\n",
    "print (\"Total en euros es:\" + str(euros_total))\n",
    "media = total / 4 * float(cambio)\n",
    "print (\"La media:\" + str(media))"
   ]
  },
  {
   "cell_type": "markdown",
   "metadata": {},
   "source": [
    "### Contando ceros con booleanos"
   ]
  },
  {
   "cell_type": "code",
   "execution_count": 8,
   "metadata": {},
   "outputs": [
    {
     "name": "stdout",
     "output_type": "stream",
     "text": [
      "2\n"
     ]
    }
   ],
   "source": [
    "lista = [3,2,5,6,0,3,4,7,6,1,5,3,0]\n",
    "n = 0\n",
    "for l in lista:\n",
    "    a = bool(l)\n",
    "    if a == False:\n",
    "        n = n + 1\n",
    "print (n)"
   ]
  },
  {
   "cell_type": "markdown",
   "metadata": {},
   "source": [
    "### 3. Prueba a crear **títulos**, **listas**, cambiar el **estilo** de la letra o añadir **imágenes** al Notebook"
   ]
  },
  {
   "cell_type": "markdown",
   "metadata": {},
   "source": [
    "Durante todo el _Notebook_ ya se están probando estos _cambios de **estilo**_"
   ]
  },
  {
   "cell_type": "markdown",
   "metadata": {},
   "source": [
    "- [x] Títulos\n",
    "- [x] Listas\n",
    "- [x] Cambios de estilo\n",
    "- [x] Imagen desde el ordenador\n",
    "- [ ] Imagen desde internet"
   ]
  },
  {
   "cell_type": "markdown",
   "metadata": {},
   "source": []
  },
  {
   "cell_type": "markdown",
   "metadata": {},
   "source": [
    "### 4. Exporta el Notebook como **pdf** y **html**"
   ]
  },
  {
   "cell_type": "markdown",
   "metadata": {},
   "source": [
    "Para exportar el pdf tengo que retirar la imagen que está cogida directamente de la web (tendría que descargarla si la quiero introducir)."
   ]
  }
 ],
 "metadata": {
  "kernelspec": {
   "display_name": "Python 3",
   "language": "python",
   "name": "python3"
  },
  "language_info": {
   "codemirror_mode": {
    "name": "ipython",
    "version": 3
   },
   "file_extension": ".py",
   "mimetype": "text/x-python",
   "name": "python",
   "nbconvert_exporter": "python",
   "pygments_lexer": "ipython3",
   "version": "3.8.5"
  }
 },
 "nbformat": 4,
 "nbformat_minor": 4
}
